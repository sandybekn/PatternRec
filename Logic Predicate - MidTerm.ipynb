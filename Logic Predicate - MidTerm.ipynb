{
 "cells": [
  {
   "cell_type": "code",
   "execution_count": null,
   "metadata": {},
   "outputs": [],
   "source": [
    "# Midterm\n",
    "## Tasks\n",
    "### 1. Make the truth tables of following statements\n",
    "### with the help of PyDatalog:\n",
    "* (A∨¬A)↔B\n",
    "* A∨B\n",
    "* (A→B)∧(B→A)\n",
    "* (A∨(B∧¬A))∨(A∨¬(B∨A))\n",
    "\n",
    "### 2. Calculate the measure of ρ(0.6/b1+0.4/b2+0.7/b3) of following relationship, \n",
    "### norm is operator of multiplication and conorm is max\n",
    "### ![ro_full.png](attachment:ro_full.png)\n",
    "\n",
    "### 3 Make the PyDatalog statements of the following anecdot story of Mark Twain:\n",
    "“After long years as a bachelor I was tired of being alone and married a\n",
    "widow with a grown daughter. My father fell in love with the daughter\n",
    "and took her as his wife. This made me my own son-in-law and my\n",
    "stepdaughter became my mother. After a year my wife gave birth to a\n",
    "son. Now, my son was my father’s brother-in-law and at the same time\n",
    "my uncle, since he was my stepmother’s brother. But my father’s wife also\n",
    "gave birth to a son. So this was my brother and also my grandson, since\n",
    "he was the son of my daughter. This meant I’d married my grandmother,\n",
    "since she was the mother of my mother. As my wife’s husband, I was\n",
    "also her grandson. And since the husband of a grandmother is always a\n",
    "grandfather, I am my own grandfather.”\n",
    "\n",
    "### 4 Using the scikit-fuzzy solve the following control system:\n",
    "The car should move at a speed of at least 60 kmh along the street away from the traffic lights. The car should stop at the intersection on a red traffic light. If the traffic light flashes amber, then the car must cross the intersection at a speed below 40 kmh. If the rules are violated, the car gets into an accident.\n",
    "The traffic light mode: red, red and yellow, green, green flashing, yellow, red, etc.\n",
    "Simplified mode of traffic lights: red, yellow, green, yellow, red, etc.\n",
    "The traffic light may not work (off), the traffic light may flash yellow, the traffic light may be broken (all three signals are switched on simultaneously).\n",
    "The signal from the system of technical vision is not always 100% reliable.\n",
    "The vision system processes video images received from a television camera. The image of the traffic light is recognized during image processing. At the output of the system, a signal is generated from the distance to the traffic light and the color signal of the traffic light. The distance signal to the traffic light is measured in meters. If the traffic light is not found or the distance to it is over 140 m, then the value of this signal is 140 m.\n",
    "Antecednets (Inputs) variables:\n",
    "* distance to the traffic light,\n",
    "* the color of the traffic light,\n",
    "* speed.\n",
    "\n",
    "The Consequents (Outputs) variable is \n",
    "* the speed change.\n",
    "\n"
   ]
  },
  {
   "cell_type": "code",
   "execution_count": 89,
   "metadata": {},
   "outputs": [],
   "source": [
    "from pyDatalog import pyDatalog\n",
    "#первое задание\n",
    "values = [0, 1]\n",
    "\n",
    "def stat1(a, b):\n",
    "    return((not(a or not(a)) or b) and (not(b) or (a or not(a))))\n",
    "\n",
    "def stat2(a, b):\n",
    "    return(a or b)\n",
    "\n",
    "def stat3(a, b):\n",
    "    return((not(a) or b) and (not(b) or a))\n",
    "\n",
    "def stat4(a, b):\n",
    "    return((a or (b and not(a))) or (a or not(b or a)))\n",
    "\n",
    "pyd.create_terms('X, Y, F, stat1, stat2, stat3, stat4')\n"
   ]
  },
  {
   "cell_type": "code",
   "execution_count": 90,
   "metadata": {},
   "outputs": [
    {
     "name": "stdout",
     "output_type": "stream",
     "text": [
      "X | Y | F\n",
      "--|---|--\n",
      "1 | 0 | 0\n",
      "0 | 1 | 1\n",
      "1 | 1 | 1\n",
      "0 | 0 | 0\n"
     ]
    }
   ],
   "source": [
    "print((X.in_(values)) & (Y.in_(values) & (F==stat1(X,Y))))"
   ]
  },
  {
   "cell_type": "code",
   "execution_count": 91,
   "metadata": {},
   "outputs": [
    {
     "name": "stdout",
     "output_type": "stream",
     "text": [
      "X | Y | F\n",
      "--|---|--\n",
      "0 | 0 | 0\n",
      "1 | 1 | 1\n",
      "0 | 1 | 1\n",
      "1 | 0 | 1\n"
     ]
    }
   ],
   "source": [
    "print((X.in_(values)) & (Y.in_(values) & (F==stat2(X,Y))))"
   ]
  },
  {
   "cell_type": "code",
   "execution_count": 92,
   "metadata": {},
   "outputs": [
    {
     "name": "stdout",
     "output_type": "stream",
     "text": [
      "X | Y | F\n",
      "--|---|--\n",
      "1 | 1 | 1\n",
      "0 | 0 | 1\n",
      "1 | 0 | 0\n",
      "0 | 1 | 0\n"
     ]
    }
   ],
   "source": [
    "print((X.in_(values)) & (Y.in_(values) & (F==stat3(X,Y))))"
   ]
  },
  {
   "cell_type": "code",
   "execution_count": 93,
   "metadata": {},
   "outputs": [
    {
     "name": "stdout",
     "output_type": "stream",
     "text": [
      "X | Y | F\n",
      "--|---|--\n",
      "1 | 0 | 1\n",
      "0 | 0 | 1\n",
      "0 | 1 | 1\n",
      "1 | 1 | 1\n"
     ]
    }
   ],
   "source": [
    "print((X.in_(values)) & (Y.in_(values) & (F==stat4(X,Y))))"
   ]
  },
  {
   "cell_type": "code",
   "execution_count": 94,
   "metadata": {},
   "outputs": [
    {
     "name": "stdout",
     "output_type": "stream",
     "text": [
      "0.35\n"
     ]
    }
   ],
   "source": [
    "#второе задание, просто вычисления \n",
    "print(max(max(0.5*0.6, 0.4*0.2,0.7*0.4), max(0.6*0.5,0.4*0.7,0.7*0.1),max(0.6*0.2,0.4*0.5,0.7*0.5)))\n",
    "#находим максимум переумножения значчкния а на ро, а потом максимум по всем а "
   ]
  },
  {
   "cell_type": "code",
   "execution_count": 111,
   "metadata": {},
   "outputs": [
    {
     "name": "stderr",
     "output_type": "stream",
     "text": [
      "INFO:pyDatalog.pyEngine:New fact : rel('3','1')\n",
      "INFO:pyDatalog.pyEngine:New fact : married('3','4')\n",
      "INFO:pyDatalog.pyEngine:New fact : rel('4','1')\n",
      "INFO:pyDatalog.pyEngine:New fact : married('4','3')\n",
      "INFO:pyDatalog.pyEngine:New fact : married('3','4')\n",
      "INFO:pyDatalog.pyEngine:New fact : married('4','3')\n",
      "INFO:pyDatalog.pyEngine:New fact : rel('4','6')\n",
      "INFO:pyDatalog.pyEngine:New fact : rel('3','6')\n",
      "INFO:pyDatalog.pyEngine:New fact : rel('2','4')\n",
      "INFO:pyDatalog.pyEngine:New fact : married('1','2')\n",
      "INFO:pyDatalog.pyEngine:New fact : married('2','1')\n",
      "INFO:pyDatalog.pyEngine:New fact : rel('1','4')\n",
      "INFO:pyDatalog.pyEngine:New fact : married('1','2')\n",
      "INFO:pyDatalog.pyEngine:New fact : married('2','1')\n",
      "INFO:pyDatalog.pyEngine:New fact : rel('2','5')\n",
      "INFO:pyDatalog.pyEngine:New fact : rel('1','5')\n",
      "INFO:pyDatalog.pyEngine:New fact : rel('3','1')\n",
      "INFO:pyDatalog.pyEngine:New fact : rel('4','1')\n",
      "INFO:pyDatalog.pyEngine:New fact : grandpa('4','5')\n",
      "INFO:pyDatalog.pyEngine:New fact : _pyD_query93('4','5')\n",
      "INFO:pyDatalog.pyEngine:New fact : grandpa('3','5')\n",
      "INFO:pyDatalog.pyEngine:New fact : _pyD_query93('3','5')\n",
      "INFO:pyDatalog.pyEngine:New fact : grandpa('4','4')\n",
      "INFO:pyDatalog.pyEngine:New fact : _pyD_query93('4','4')\n",
      "INFO:pyDatalog.pyEngine:New fact : grandpa('3','4')\n",
      "INFO:pyDatalog.pyEngine:New fact : _pyD_query93('3','4')\n",
      "INFO:pyDatalog.pyEngine:New fact : rel('2','4')\n",
      "INFO:pyDatalog.pyEngine:New fact : rel('1','4')\n",
      "INFO:pyDatalog.pyEngine:New fact : grandpa('1','6')\n",
      "INFO:pyDatalog.pyEngine:New fact : _pyD_query93('1','6')\n",
      "INFO:pyDatalog.pyEngine:New fact : grandpa('2','6')\n",
      "INFO:pyDatalog.pyEngine:New fact : _pyD_query93('2','6')\n",
      "INFO:pyDatalog.pyEngine:New fact : grandpa('1','1')\n",
      "INFO:pyDatalog.pyEngine:New fact : _pyD_query93('1','1')\n",
      "INFO:pyDatalog.pyEngine:New fact : grandpa('2','1')\n",
      "INFO:pyDatalog.pyEngine:New fact : _pyD_query93('2','1')\n",
      "INFO:pyDatalog.pyEngine:New fact : son('3','1')\n",
      "INFO:pyDatalog.pyEngine:New fact : son('4','1')\n",
      "INFO:pyDatalog.pyEngine:New fact : son('4','6')\n",
      "INFO:pyDatalog.pyEngine:New fact : son('3','6')\n",
      "INFO:pyDatalog.pyEngine:New fact : son('2','4')\n",
      "INFO:pyDatalog.pyEngine:New fact : son('1','4')\n",
      "INFO:pyDatalog.pyEngine:New fact : son('2','5')\n",
      "INFO:pyDatalog.pyEngine:New fact : son('1','5')\n",
      "INFO:pyDatalog.pyEngine:New fact : son('3','1')\n",
      "INFO:pyDatalog.pyEngine:New fact : son('4','1')\n",
      "INFO:pyDatalog.pyEngine:New fact : son('2','4')\n",
      "INFO:pyDatalog.pyEngine:New fact : son('1','4')\n",
      "INFO:pyDatalog.pyEngine:New fact : rel('3','1')\n",
      "INFO:pyDatalog.pyEngine:New fact : married('3','4')\n",
      "INFO:pyDatalog.pyEngine:New fact : rel('4','1')\n",
      "INFO:pyDatalog.pyEngine:New fact : married('4','3')\n",
      "INFO:pyDatalog.pyEngine:New fact : married('3','4')\n",
      "INFO:pyDatalog.pyEngine:New fact : married('4','3')\n",
      "INFO:pyDatalog.pyEngine:New fact : rel('2','4')\n",
      "INFO:pyDatalog.pyEngine:New fact : married('1','2')\n",
      "INFO:pyDatalog.pyEngine:New fact : married('1','2')\n",
      "INFO:pyDatalog.pyEngine:New fact : married('2','1')\n",
      "INFO:pyDatalog.pyEngine:New fact : married('2','1')\n",
      "INFO:pyDatalog.pyEngine:New fact : rel('1','4')\n",
      "INFO:pyDatalog.pyEngine:New fact : rel('1','4')\n",
      "INFO:pyDatalog.pyEngine:New fact : married('1','2')\n",
      "INFO:pyDatalog.pyEngine:New fact : married('2','1')\n",
      "INFO:pyDatalog.pyEngine:New fact : grandpa('1','1')\n",
      "INFO:pyDatalog.pyEngine:New fact : _pyD_query94()\n"
     ]
    },
    {
     "name": "stdout",
     "output_type": "stream",
     "text": [
      "X | Y\n",
      "--|--\n",
      "4 | 5\n",
      "1 | 6\n",
      "2 | 1\n",
      "4 | 4\n",
      "3 | 4\n",
      "2 | 6\n",
      "1 | 1\n",
      "3 | 5\n",
      "True\n"
     ]
    }
   ],
   "source": [
    "from pyDatalog import pyDatalog\n",
    "from pyDatalog import pyEngine\n",
    "pyDatalog.create_terms('X,Y,Z,U,W, married,rel,grandpa')\n",
    "\n",
    "+married(1, 2) #me and wife\n",
    "+married(3, 4) #father and daughter\n",
    "\n",
    "married(X,Y) <= married(Y,X)\n",
    "+rel(1, 5) #me and my son\n",
    "+rel(2, 5) #wife and my son\n",
    "+rel(2, 4) #wife and daughter\n",
    "+rel(3, 6) #father and son\n",
    "+rel(4, 6) #daughter and son\n",
    "+rel(3, 1) #father and me \n",
    "\n",
    "rel(X,Y) <= rel(X, Y)\n",
    "\n",
    "rel(Z, Y) <= rel(X, Y) & married(X, Z)\n",
    "grandpa(X, Y) <= rel(Z, Y) & rel(X, Z)\n",
    "\n",
    "print(grandpa(X,Y))\n",
    "if grandpa(1,1):\n",
    "    print(\"True\")"
   ]
  },
  {
   "cell_type": "code",
   "execution_count": null,
   "metadata": {},
   "outputs": [],
   "source": [
    "\n"
   ]
  }
 ],
 "metadata": {
  "anaconda-cloud": {},
  "kernelspec": {
   "display_name": "Python 3",
   "language": "python",
   "name": "python3"
  },
  "language_info": {
   "codemirror_mode": {
    "name": "ipython",
    "version": 3
   },
   "file_extension": ".py",
   "mimetype": "text/x-python",
   "name": "python",
   "nbconvert_exporter": "python",
   "pygments_lexer": "ipython3",
   "version": "3.5.2"
  }
 },
 "nbformat": 4,
 "nbformat_minor": 2
}
